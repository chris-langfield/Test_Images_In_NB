{
 "cells": [
  {
   "cell_type": "markdown",
   "id": "8e6cdfcf",
   "metadata": {},
   "source": [
    "### Test loading a local image in a private Git repo"
   ]
  },
  {
   "cell_type": "markdown",
   "id": "5474c550",
   "metadata": {},
   "source": [
    "![Brain](images/test_image.png)"
   ]
  },
  {
   "cell_type": "markdown",
   "id": "0e54f474",
   "metadata": {},
   "source": [
    "![Brain](images/test_image.png?raw=True)"
   ]
  },
  {
   "cell_type": "markdown",
   "id": "173bec8a",
   "metadata": {},
   "source": [
    "![Brain](images/test_image.png?raw=True)"
   ]
  },
  {
   "attachments": {},
   "cell_type": "markdown",
   "id": "0fc55373",
   "metadata": {},
   "source": []
  },
  {
   "cell_type": "code",
   "execution_count": null,
   "id": "b2aa0dfc",
   "metadata": {},
   "outputs": [],
   "source": []
  },
  {
   "cell_type": "code",
   "execution_count": null,
   "id": "afe0fff9",
   "metadata": {},
   "outputs": [],
   "source": []
  }
 ],
 "metadata": {
  "kernelspec": {
   "display_name": "Python 3 (ipykernel)",
   "language": "python",
   "name": "python3"
  },
  "language_info": {
   "codemirror_mode": {
    "name": "ipython",
    "version": 3
   },
   "file_extension": ".py",
   "mimetype": "text/x-python",
   "name": "python",
   "nbconvert_exporter": "python",
   "pygments_lexer": "ipython3",
   "version": "3.8.16"
  }
 },
 "nbformat": 4,
 "nbformat_minor": 5
}
